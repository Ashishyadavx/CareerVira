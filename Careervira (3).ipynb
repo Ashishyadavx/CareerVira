{
 "cells": [
  {
   "cell_type": "code",
   "execution_count": 16,
   "id": "938d566c",
   "metadata": {},
   "outputs": [],
   "source": [
    "import numpy as np\n",
    "import pandas as pd\n",
    "import requests\n",
    "import re"
   ]
  },
  {
   "cell_type": "code",
   "execution_count": 17,
   "id": "8de8524f",
   "metadata": {
    "scrolled": false
   },
   "outputs": [
    {
     "name": "stdout",
     "output_type": "stream",
     "text": [
      "Requirement already satisfied: bs4 in c:\\python312\\lib\\site-packages (0.0.2)"
     ]
    },
    {
     "name": "stderr",
     "output_type": "stream",
     "text": [
      "\n",
      "[notice] A new release of pip is available: 24.0 -> 24.2\n",
      "[notice] To update, run: python.exe -m pip install --upgrade pip\n"
     ]
    },
    {
     "name": "stdout",
     "output_type": "stream",
     "text": [
      "\n",
      "Requirement already satisfied: beautifulsoup4 in c:\\python312\\lib\\site-packages (from bs4) (4.12.3)\n",
      "Requirement already satisfied: soupsieve>1.2 in c:\\python312\\lib\\site-packages (from beautifulsoup4->bs4) (2.5)\n"
     ]
    }
   ],
   "source": [
    "!pip install bs4"
   ]
  },
  {
   "cell_type": "code",
   "execution_count": 18,
   "id": "a1682137",
   "metadata": {},
   "outputs": [],
   "source": [
    "from bs4 import BeautifulSoup"
   ]
  },
  {
   "cell_type": "code",
   "execution_count": 19,
   "id": "b4fbcb72",
   "metadata": {},
   "outputs": [],
   "source": [
    "url2='https://talentedge.com/golden-gate-university/doctor-of-business-administration'"
   ]
  },
  {
   "cell_type": "code",
   "execution_count": 20,
   "id": "36359038",
   "metadata": {},
   "outputs": [],
   "source": [
    "page1=requests.get(url2)\n",
    "htmlcontent=page1.content"
   ]
  },
  {
   "cell_type": "code",
   "execution_count": 21,
   "id": "68c4b62d",
   "metadata": {},
   "outputs": [],
   "source": [
    "soup2=BeautifulSoup(htmlcontent,'html.parser')"
   ]
  },
  {
   "cell_type": "code",
   "execution_count": 22,
   "id": "1c313cd0",
   "metadata": {},
   "outputs": [],
   "source": [
    "title=soup2.find('title')\n",
    "title=title.text\n"
   ]
  },
  {
   "cell_type": "code",
   "execution_count": 23,
   "id": "5b9d97c9",
   "metadata": {},
   "outputs": [
    {
     "name": "stdout",
     "output_type": "stream",
     "text": [
      "Go beyond the boundaries of your job, without quitting it. Be a sought after specialist with the same doctorate degree awarded on campus. Earn the ‘Dr’ title after successfully completing the program. The Doctor of Business Administration (DBA) program is designed for professionals who want to further their career with the most advanced business degree program GGU offers. The DBA program addresses the learning needs and objectives of senior business managers, consultants and university professors. Its primary objective is to produce graduates who can contribute to the advancement of their professions and to the expansion of knowledge and awareness of contemporary strategic issues and practices.\n",
      "Our curriculum has a three-tiered focus. Students examine current theories, practices, and issues in business; train in research methods; and study the relationships between business and social and global issues. We believe doctoral students must be adept in all these areas to be successful contributors to the expansion of knowledge and improvement of business practices. For the dissertation, students conduct original research on a topic of current importance and personal interest. The dissertation should impact and help illuminate the strategic issues they face in their professions.\n",
      "The program encourages students to accept the added responsibility of a shared commitment to the advancement of their professions and to upholding the highest ethical standards in the private or public sector.\n",
      "Go beyond the boundaries of your job, without quitting it. Be a sought after specialist with the same doctorate degree awarded on campus. Earn the ‘Dr’ title after successfully completing the program. The Doctor of Business Administration (DBA) program is designed for professionals who want to further their career with the most advanced business degree progr\n"
     ]
    }
   ],
   "source": [
    "p_tags = soup2.find('div', class_='pl-aboutus').find_all('p')\n",
    "\n",
    "# Print the text of each p tag after removing any a tags\n",
    "for p in p_tags:\n",
    "    for a in p.find_all('a'):\n",
    "        a.decompose()\n",
    "    About = p.text.strip()\n",
    "    print(About)"
   ]
  },
  {
   "cell_type": "code",
   "execution_count": 24,
   "id": "906ca675",
   "metadata": {},
   "outputs": [
    {
     "name": "stdout",
     "output_type": "stream",
     "text": [
      "Duration: 36 Months\n",
      "Start Date: 15 Feb, 2024\n"
     ]
    }
   ],
   "source": [
    "duration = soup2.find('p', text=lambda t: t and 'Duration:' in t).text.strip()\n",
    "duration = duration.replace('Duration: ', '')\n",
    "\n",
    "# Find the start date\n",
    "start_date = soup2.find('p', text=lambda t: t and 'Feb' in t).text.strip()\n",
    "\n",
    "print(f\"Duration: {duration}\")\n",
    "print(f\"Start Date: {start_date}\")"
   ]
  },
  {
   "cell_type": "code",
   "execution_count": 25,
   "id": "e1991c3a",
   "metadata": {},
   "outputs": [
    {
     "name": "stdout",
     "output_type": "stream",
     "text": [
      "['Foundation (12 Credits)', 'Concentration (12 Credits)', 'Final dissertation (32 Credits)']\n"
     ]
    }
   ],
   "source": [
    "# Find the foundation, concentration, and final dissertation tabs\n",
    "foundation_tab = soup2.find('a', href=\"#syl-tab1\").text.strip()\n",
    "concentration_tab = soup2.find('a', href=\"#syl-tab2\").text.strip()\n",
    "final_dissertation_tab = soup2.find('a', href=\"#syl-tab3\").text.strip()\n",
    "\n",
    "# Store the syllabus items into a list\n",
    "syllabus = [foundation_tab, concentration_tab, final_dissertation_tab]\n",
    "\n",
    "print(syllabus)"
   ]
  },
  {
   "cell_type": "code",
   "execution_count": 26,
   "id": "6a8dec41",
   "metadata": {},
   "outputs": [
    {
     "name": "stdout",
     "output_type": "stream",
     "text": [
      "['Applied Research', 'Concept Selection', 'Management Issues Redressal', 'Critical Decision-Making', 'Critical Thinking']\n"
     ]
    }
   ],
   "source": [
    "ul_tag = soup2.find('div', class_='key-skills-sec').find('ul')\n",
    "\n",
    "# Extract all li tags from the ul tag\n",
    "key_skills = [li.text.strip() for li in ul_tag.find_all('li')]\n",
    "\n",
    "print(key_skills)"
   ]
  },
  {
   "cell_type": "code",
   "execution_count": 27,
   "id": "0b7820a0",
   "metadata": {},
   "outputs": [
    {
     "name": "stdout",
     "output_type": "stream",
     "text": [
      "Master's Degree (or equivalent) or Bachelors Degree with 5+ years of work experience.\n"
     ]
    }
   ],
   "source": [
    "eligibility_criteria = soup2.find('div', class_='eligible-right-top-list').find('p').text.strip()\n",
    "\n",
    "print(eligibility_criteria)"
   ]
  },
  {
   "cell_type": "code",
   "execution_count": 28,
   "id": "a24ce5de",
   "metadata": {},
   "outputs": [
    {
     "name": "stdout",
     "output_type": "stream",
     "text": [
      "1226438\n"
     ]
    }
   ],
   "source": [
    "price_div = soup2.find(class_='program-details-total-pay-amt-right')\n",
    "\n",
    "# Extract the text content of the div\n",
    "price_text = price_div.get_text(strip=True)\n",
    "\n",
    "# Use regular expressions to extract the number\n",
    "INR = re.search(r'\\d+', price_text).group()\n",
    "\n",
    "print(INR)"
   ]
  },
  {
   "cell_type": "code",
   "execution_count": 29,
   "id": "077d069f",
   "metadata": {},
   "outputs": [
    {
     "name": "stdout",
     "output_type": "stream",
     "text": [
      "['Dr. Mick Mcgee', 'Dr. Judith Lee', 'Dr. Joaquin \"Jay\" Gonzalez', 'Dr. Anita Manohar', 'Prof. Marcia Ruben', 'Prof. Anthony De Leon', 'Prof. Geoffrey Ngene', 'Prof. Saida Zeidan', 'Prof. Tommy Moreno', 'Prof. Marion Moreno']\n"
     ]
    }
   ],
   "source": [
    "faculty_names = [h4.text.strip() for h4 in soup2.find_all('h4', class_='best-fname')]\n",
    "\n",
    "# Store the faculty names into a list\n",
    "faculty = faculty_names\n",
    "\n",
    "print(faculty)"
   ]
  },
  {
   "cell_type": "code",
   "execution_count": 31,
   "id": "aae99d00",
   "metadata": {},
   "outputs": [
    {
     "data": {
      "text/html": [
       "<div>\n",
       "<style scoped>\n",
       "    .dataframe tbody tr th:only-of-type {\n",
       "        vertical-align: middle;\n",
       "    }\n",
       "\n",
       "    .dataframe tbody tr th {\n",
       "        vertical-align: top;\n",
       "    }\n",
       "\n",
       "    .dataframe thead th {\n",
       "        text-align: right;\n",
       "    }\n",
       "</style>\n",
       "<table border=\"1\" class=\"dataframe\">\n",
       "  <thead>\n",
       "    <tr style=\"text-align: right;\">\n",
       "      <th></th>\n",
       "      <th>Title</th>\n",
       "      <th>Paragraph</th>\n",
       "      <th>Duration</th>\n",
       "      <th>Start Date</th>\n",
       "      <th>Syllabus</th>\n",
       "      <th>Key_skills</th>\n",
       "      <th>eligibility_criteria</th>\n",
       "      <th>INR</th>\n",
       "      <th>Faculty</th>\n",
       "    </tr>\n",
       "  </thead>\n",
       "  <tbody>\n",
       "    <tr>\n",
       "      <th>0</th>\n",
       "      <td>Doctor of business administration - TalentEdge</td>\n",
       "      <td>Go beyond the boundaries of your job, without ...</td>\n",
       "      <td>36 Months</td>\n",
       "      <td>15 Feb, 2024</td>\n",
       "      <td>[Foundation (12 Credits), Concentration (12 Cr...</td>\n",
       "      <td>[Applied Research, Concept Selection, Manageme...</td>\n",
       "      <td>Master's Degree (or equivalent) or Bachelors D...</td>\n",
       "      <td>1226438</td>\n",
       "      <td>[Dr. Mick Mcgee, Dr. Judith Lee, Dr. Joaquin \"...</td>\n",
       "    </tr>\n",
       "  </tbody>\n",
       "</table>\n",
       "</div>"
      ],
      "text/plain": [
       "                                            Title  \\\n",
       "0  Doctor of business administration - TalentEdge   \n",
       "\n",
       "                                           Paragraph   Duration    Start Date  \\\n",
       "0  Go beyond the boundaries of your job, without ...  36 Months  15 Feb, 2024   \n",
       "\n",
       "                                            Syllabus  \\\n",
       "0  [Foundation (12 Credits), Concentration (12 Cr...   \n",
       "\n",
       "                                          Key_skills  \\\n",
       "0  [Applied Research, Concept Selection, Manageme...   \n",
       "\n",
       "                                eligibility_criteria      INR  \\\n",
       "0  Master's Degree (or equivalent) or Bachelors D...  1226438   \n",
       "\n",
       "                                             Faculty  \n",
       "0  [Dr. Mick Mcgee, Dr. Judith Lee, Dr. Joaquin \"...  "
      ]
     },
     "execution_count": 31,
     "metadata": {},
     "output_type": "execute_result"
    }
   ],
   "source": [
    "data = {\n",
    "    \"Title\": [title],\n",
    "    \"Paragraph\": [para],\n",
    "    \"Duration\": [duration],\n",
    "    \"Start Date\": [start_date],\n",
    "    \"Syllabus\": [syllabus],\n",
    "    \"Key_skills\": [key_skills],\n",
    "    \"eligibility_criteria\": [eligibility_criteria],\n",
    "    \"INR\": [INR],\n",
    "    \"Faculty\": [faculty]\n",
    "}\n",
    "\n",
    "# Convert the dictionary to a DataFrame\n",
    "df1 = pd.DataFrame(data)\n",
    "\n",
    "# Print the DataFrame\n",
    "df1.head()"
   ]
  },
  {
   "cell_type": "markdown",
   "id": "c0812780",
   "metadata": {},
   "source": [
    "### Some URls To scrape"
   ]
  },
  {
   "cell_type": "code",
   "execution_count": null,
   "id": "0da42393",
   "metadata": {},
   "outputs": [],
   "source": [
    "https://talentedge.com/iim-kozhikode/professional-certificate-programme-in-hr-management-and-analytics\n",
    "https://talentedge.com/ecornell/certificate-course-data-analytics-360\n",
    "https://talentedge.com/ecornell/certificate-course-executive-leadership\n",
    "https://talentedge.com/ecornell/certificate-course-digital-transformation\n",
    "https://talentedge.com/ecornell/certificate-course-human-resources-management\n",
    "https://talentedge.com/ecornell/certificate-course-technology-leadership\n",
    "https://talentedge.com/opjindal-global-business-school/masters-of-business-administration-opj-global-universityhttps://talentedge.com/esgci-school-of-management-paris/doctorate-of-business-administration-esgci\n",
    "https://talentedge.com/iim-kozhikode/professional-certificate-programme-in-hr-management-and-analytics"
   ]
  },
  {
   "cell_type": "code",
   "execution_count": 33,
   "id": "dd59bee9",
   "metadata": {},
   "outputs": [],
   "source": [
    "url3='https://talentedge.com/iim-kozhikode/professional-certificate-programme-in-hr-management-and-analytics'\n"
   ]
  },
  {
   "cell_type": "code",
   "execution_count": 35,
   "id": "5b61efa7",
   "metadata": {},
   "outputs": [],
   "source": [
    "page3=requests.get(url3)\n",
    "htmlcontent=page3.content"
   ]
  },
  {
   "cell_type": "code",
   "execution_count": 37,
   "id": "7618b734",
   "metadata": {},
   "outputs": [],
   "source": [
    "soup3=BeautifulSoup(htmlcontent,'html.parser')"
   ]
  },
  {
   "cell_type": "code",
   "execution_count": 62,
   "id": "e37fa553",
   "metadata": {},
   "outputs": [],
   "source": [
    "title=soup3.find('title')\n",
    "title3=title.text"
   ]
  },
  {
   "cell_type": "code",
   "execution_count": 61,
   "id": "6ac4a7f2",
   "metadata": {},
   "outputs": [],
   "source": [
    "p_tags = soup2.find('div', class_='pl-aboutus').find_all('p')\n",
    "\n",
    "# Print the text of each p tag after removing any a tags\n",
    "for p in p_tags:\n",
    "    for a in p.find_all('a'):\n",
    "        a.decompose()\n",
    "    About3 = p.text.strip()"
   ]
  },
  {
   "cell_type": "code",
   "execution_count": 60,
   "id": "ac31f4f6",
   "metadata": {},
   "outputs": [
    {
     "name": "stdout",
     "output_type": "stream",
     "text": [
      "Duration: 5 Months\n",
      "Start Date: 15 Feb, 2024\n"
     ]
    }
   ],
   "source": [
    "duration3 = soup3.find('p', text=lambda t: t and 'Duration:' in t).text.strip()\n",
    "duration3 = duration.replace('Duration: ', '')\n",
    "\n",
    "# Find the start date\n",
    "start_date3 = soup3.find('p', text=lambda t: t and 'Feb' in t).text.strip()\n",
    "\n",
    "print(f\"Duration: {duration3}\")\n",
    "print(f\"Start Date: {start_date3}\")"
   ]
  },
  {
   "cell_type": "code",
   "execution_count": 52,
   "id": "86be804e",
   "metadata": {},
   "outputs": [
    {
     "name": "stdout",
     "output_type": "stream",
     "text": [
      "['Introduction to HR Analytics', 'HR Practices and Benchmarking', 'Workforce Planning and Talent Sourcing Analytics']\n"
     ]
    }
   ],
   "source": [
    "# Find the foundation, concentration, and final dissertation tabs\n",
    "foundation_tab = soup3.find('a', href=\"#syl-tab1\").text.strip()\n",
    "concentration_tab = soup3.find('a', href=\"#syl-tab2\").text.strip()\n",
    "final_dissertation_tab = soup3.find('a', href=\"#syl-tab3\").text.strip()\n",
    "\n",
    "# Store the syllabus items into a list\n",
    "syllabus3 = [foundation_tab, concentration_tab, final_dissertation_tab]\n",
    "\n",
    "print(syllabus3)"
   ]
  },
  {
   "cell_type": "code",
   "execution_count": 53,
   "id": "2785ef1b",
   "metadata": {},
   "outputs": [],
   "source": [
    "elements = soup3.find_all(class_='key-skills-sec')\n",
    "\n",
    "# Print the elements\n",
    "keyskills3 = []\n",
    "for element in elements:\n",
    "    li_elements = element.find_all('li')\n",
    "    for li in li_elements:\n",
    "        keyskills3.append(li.text.strip())"
   ]
  },
  {
   "cell_type": "code",
   "execution_count": 55,
   "id": "f04bd53f",
   "metadata": {},
   "outputs": [
    {
     "name": "stdout",
     "output_type": "stream",
     "text": [
      "- Minimum 2 years work experience if you have a Bachelor's Degree\r\n",
      "- Freshers can apply if you have a Master’s Degree.\n"
     ]
    }
   ],
   "source": [
    "eligibility_criteria3 = soup3.find('div', class_='eligible-div eligible-div-new-design').find('p').text.strip()\n",
    "\n",
    "print(eligibility_criteria3)"
   ]
  },
  {
   "cell_type": "code",
   "execution_count": 65,
   "id": "16a65fb8",
   "metadata": {},
   "outputs": [
    {
     "name": "stdout",
     "output_type": "stream",
     "text": [
      "105932\n"
     ]
    }
   ],
   "source": [
    "price_div = soup3.find(class_='program-details-total-pay-amt-right')\n",
    "\n",
    "# Extract the text content of the div\n",
    "price_text = price_div.get_text(strip=True)\n",
    "\n",
    "# Use regular expressions to extract the number\n",
    "INR3 = re.search(r'\\d+', price_text).group()\n",
    "\n",
    "print(INR3)"
   ]
  },
  {
   "cell_type": "code",
   "execution_count": 67,
   "id": "f989ca6d",
   "metadata": {},
   "outputs": [
    {
     "name": "stdout",
     "output_type": "stream",
     "text": [
      "['Prof T.N. Krishnan', 'Prof. Kapil Verma', 'Prof. Prantika Ray']\n"
     ]
    }
   ],
   "source": [
    "faculty_names = [h4.text.strip() for h4 in soup3.find_all('h4', class_='best-fname')]\n",
    "\n",
    "# Store the faculty names into a list\n",
    "faculty3 = faculty_names\n",
    "\n",
    "print(faculty3)"
   ]
  },
  {
   "cell_type": "code",
   "execution_count": 68,
   "id": "340ed4f4",
   "metadata": {},
   "outputs": [
    {
     "data": {
      "text/html": [
       "<div>\n",
       "<style scoped>\n",
       "    .dataframe tbody tr th:only-of-type {\n",
       "        vertical-align: middle;\n",
       "    }\n",
       "\n",
       "    .dataframe tbody tr th {\n",
       "        vertical-align: top;\n",
       "    }\n",
       "\n",
       "    .dataframe thead th {\n",
       "        text-align: right;\n",
       "    }\n",
       "</style>\n",
       "<table border=\"1\" class=\"dataframe\">\n",
       "  <thead>\n",
       "    <tr style=\"text-align: right;\">\n",
       "      <th></th>\n",
       "      <th>Title</th>\n",
       "      <th>Paragraph</th>\n",
       "      <th>Duration</th>\n",
       "      <th>Start Date</th>\n",
       "      <th>Syllabus</th>\n",
       "      <th>Key_skills</th>\n",
       "      <th>eligibility_criteria</th>\n",
       "      <th>INR</th>\n",
       "      <th>Faculty</th>\n",
       "    </tr>\n",
       "  </thead>\n",
       "  <tbody>\n",
       "    <tr>\n",
       "      <th>0</th>\n",
       "      <td>Professional certificate programme in hr manag...</td>\n",
       "      <td>Go beyond the boundaries of your job, without ...</td>\n",
       "      <td>5 Months</td>\n",
       "      <td>15 Feb, 2024</td>\n",
       "      <td>[Introduction to HR Analytics, HR Practices an...</td>\n",
       "      <td>[Talent sourcing, Employee retention,, Workfor...</td>\n",
       "      <td>- Minimum 2 years work experience if you have ...</td>\n",
       "      <td>105932</td>\n",
       "      <td>[Prof T.N. Krishnan, Prof. Kapil Verma, Prof. ...</td>\n",
       "    </tr>\n",
       "  </tbody>\n",
       "</table>\n",
       "</div>"
      ],
      "text/plain": [
       "                                               Title  \\\n",
       "0  Professional certificate programme in hr manag...   \n",
       "\n",
       "                                           Paragraph  Duration    Start Date  \\\n",
       "0  Go beyond the boundaries of your job, without ...  5 Months  15 Feb, 2024   \n",
       "\n",
       "                                            Syllabus  \\\n",
       "0  [Introduction to HR Analytics, HR Practices an...   \n",
       "\n",
       "                                          Key_skills  \\\n",
       "0  [Talent sourcing, Employee retention,, Workfor...   \n",
       "\n",
       "                                eligibility_criteria     INR  \\\n",
       "0  - Minimum 2 years work experience if you have ...  105932   \n",
       "\n",
       "                                             Faculty  \n",
       "0  [Prof T.N. Krishnan, Prof. Kapil Verma, Prof. ...  "
      ]
     },
     "execution_count": 68,
     "metadata": {},
     "output_type": "execute_result"
    }
   ],
   "source": [
    "data = {\n",
    "    \"Title\": [title3],\n",
    "    \"Paragraph\": [About3],\n",
    "    \"Duration\": [duration3],\n",
    "    \"Start Date\": [start_date3],\n",
    "    \"Syllabus\": [syllabus3],\n",
    "    \"Key_skills\": [keyskills3],\n",
    "    \"eligibility_criteria\": [eligibility_criteria3],\n",
    "    \"INR\": [INR3],\n",
    "    \"Faculty\": [faculty3]\n",
    "}\n",
    "\n",
    "# Convert the dictionary to a DataFrame\n",
    "df2 = pd.DataFrame(data)\n",
    "\n",
    "# Print the DataFrame\n",
    "df2.head()"
   ]
  },
  {
   "cell_type": "code",
   "execution_count": 74,
   "id": "79068733",
   "metadata": {},
   "outputs": [],
   "source": [
    "url4='https://talentedge.com/ecornell/certificate-course-data-analytics-360'\n",
    "page4=requests.get(url4)\n",
    "htmlcontent4=page4.content\n",
    "soup4=BeautifulSoup(htmlcontent4,'html.parser')"
   ]
  },
  {
   "cell_type": "code",
   "execution_count": 78,
   "id": "41e0fa99",
   "metadata": {},
   "outputs": [
    {
     "data": {
      "text/plain": [
       "'Data Analytics Course Online by eCornell- Talentedge'"
      ]
     },
     "execution_count": 78,
     "metadata": {},
     "output_type": "execute_result"
    }
   ],
   "source": [
    "title4=soup4.find('title')\n",
    "title4=title.text\n",
    "title4"
   ]
  },
  {
   "cell_type": "code",
   "execution_count": 86,
   "id": "65405cc0",
   "metadata": {},
   "outputs": [],
   "source": [
    "div = soup4.select_one('.el-lap-section2-inner.el-ln-p')\n",
    "\n",
    "# Find all p tags within the div\n",
    "p_tags = div.find_all('p')\n",
    "About4=[]\n",
    "# Extract and print the text of each p tag\n",
    "for p in p_tags:\n",
    "    About4.append(p.text.strip())"
   ]
  },
  {
   "cell_type": "code",
   "execution_count": 96,
   "id": "fcc3cf40",
   "metadata": {},
   "outputs": [
    {
     "name": "stdout",
     "output_type": "stream",
     "text": [
      "Duration: 19 Outcome based education for the Modern World!\n"
     ]
    }
   ],
   "source": [
    "span_element = soup4.find('span', class_='monthsOfCourse')\n",
    "duration4 = span_element.text.strip()\n",
    "\n",
    "# Find the p element\n",
    "p_element = soup4.find('p')\n",
    "weeks = p_element.text.strip()\n",
    "\n",
    "print(f\"Duration: {duration4} {weeks}\")"
   ]
  },
  {
   "cell_type": "code",
   "execution_count": 101,
   "id": "47457ce6",
   "metadata": {
    "scrolled": true
   },
   "outputs": [
    {
     "name": "stdout",
     "output_type": "stream",
     "text": [
      "['Understanding and Visualizing Data', 'Implementing Scientific Decision Making', 'Using Predictive Data Analysis', 'Modeling Uncertainty and Risk', 'Optimization and Modeling Simultaneous Decisions', 'Application Process', 'Cancellation Policy']\n"
     ]
    }
   ],
   "source": [
    "repeater_elements = soup4.find_all(class_='el-lap-section4-repeater')\n",
    "\n",
    "# Extract the text content of each 'accordionButton' within these elements\n",
    "syllabus4 = [element.find('div', class_='accordionButton').text.strip() for element in repeater_elements]\n",
    "\n",
    "print(syllabus4)"
   ]
  },
  {
   "cell_type": "code",
   "execution_count": 104,
   "id": "7724cb84",
   "metadata": {},
   "outputs": [],
   "source": [
    "ul_tag = soup4.find('ul', style=\"list-style-type: disc;\")\n",
    "\n",
    "# Extract all the li tags within the ul tag\n",
    "li_tags = ul_tag.find_all('li')\n",
    "eligibility_criteria4=[]\n",
    "# Print the text of each li tag\n",
    "for li in li_tags:\n",
    "    eligibility_criteria4.append(li.text.strip())"
   ]
  },
  {
   "cell_type": "code",
   "execution_count": 128,
   "id": "77f43b3f",
   "metadata": {},
   "outputs": [],
   "source": [
    "INR4='INR 200000'\n",
    "keyskills4 = 0\n",
    "start_date4='13 mar, 2024'"
   ]
  },
  {
   "cell_type": "code",
   "execution_count": 112,
   "id": "e269cb56",
   "metadata": {},
   "outputs": [
    {
     "name": "stdout",
     "output_type": "stream",
     "text": [
      "[]\n"
     ]
    }
   ],
   "source": [
    "faculty_names = [h4.text.strip() for h4 in soup4.find_all('h4', class_='el-fec-right')]\n",
    "\n",
    "# Store the faculty names into a list\n",
    "faculty4 = faculty_names\n",
    "\n",
    "print(faculty4)"
   ]
  },
  {
   "cell_type": "code",
   "execution_count": 123,
   "id": "9706114c",
   "metadata": {},
   "outputs": [],
   "source": [
    "faculty4=soup4.find(class_='el-fec-right').find('h4').text.strip()"
   ]
  },
  {
   "cell_type": "code",
   "execution_count": 129,
   "id": "84ab0705",
   "metadata": {
    "scrolled": false
   },
   "outputs": [
    {
     "data": {
      "text/html": [
       "<div>\n",
       "<style scoped>\n",
       "    .dataframe tbody tr th:only-of-type {\n",
       "        vertical-align: middle;\n",
       "    }\n",
       "\n",
       "    .dataframe tbody tr th {\n",
       "        vertical-align: top;\n",
       "    }\n",
       "\n",
       "    .dataframe thead th {\n",
       "        text-align: right;\n",
       "    }\n",
       "</style>\n",
       "<table border=\"1\" class=\"dataframe\">\n",
       "  <thead>\n",
       "    <tr style=\"text-align: right;\">\n",
       "      <th></th>\n",
       "      <th>Title</th>\n",
       "      <th>Paragraph</th>\n",
       "      <th>Duration</th>\n",
       "      <th>Start Date</th>\n",
       "      <th>Syllabus</th>\n",
       "      <th>Key_skills</th>\n",
       "      <th>eligibility_criteria</th>\n",
       "      <th>INR</th>\n",
       "      <th>Faculty</th>\n",
       "    </tr>\n",
       "  </thead>\n",
       "  <tbody>\n",
       "    <tr>\n",
       "      <th>0</th>\n",
       "      <td>Data Analytics Course Online by eCornell- Tale...</td>\n",
       "      <td>[Talentedge is proud to offer Data Analytics 3...</td>\n",
       "      <td>19</td>\n",
       "      <td>13 mar, 2024</td>\n",
       "      <td>[Understanding and Visualizing Data, Implement...</td>\n",
       "      <td>0</td>\n",
       "      <td>[Certificate of Completion in Data Analytics 3...</td>\n",
       "      <td>INR 200000</td>\n",
       "      <td>Chris Anderson</td>\n",
       "    </tr>\n",
       "  </tbody>\n",
       "</table>\n",
       "</div>"
      ],
      "text/plain": [
       "                                               Title  \\\n",
       "0  Data Analytics Course Online by eCornell- Tale...   \n",
       "\n",
       "                                           Paragraph Duration    Start Date  \\\n",
       "0  [Talentedge is proud to offer Data Analytics 3...       19  13 mar, 2024   \n",
       "\n",
       "                                            Syllabus  Key_skills  \\\n",
       "0  [Understanding and Visualizing Data, Implement...           0   \n",
       "\n",
       "                                eligibility_criteria         INR  \\\n",
       "0  [Certificate of Completion in Data Analytics 3...  INR 200000   \n",
       "\n",
       "          Faculty  \n",
       "0  Chris Anderson  "
      ]
     },
     "execution_count": 129,
     "metadata": {},
     "output_type": "execute_result"
    }
   ],
   "source": [
    "data = {\n",
    "    \"Title\": [title4],\n",
    "    \"Paragraph\": [About4],\n",
    "    \"Duration\": [duration4],\n",
    "    \"Start Date\": [start_date4],\n",
    "    \"Syllabus\": [syllabus4],\n",
    "    \"Key_skills\": [keyskills4],\n",
    "    \"eligibility_criteria\": [eligibility_criteria4],\n",
    "    \"INR\": [INR4],\n",
    "    \"Faculty\": [faculty4]\n",
    "}\n",
    "\n",
    "# Convert the dictionary to a DataFrame\n",
    "df3 = pd.DataFrame(data)\n",
    "\n",
    "# Print the DataFrame\n",
    "df3.head()"
   ]
  },
  {
   "cell_type": "markdown",
   "id": "50983935",
   "metadata": {},
   "source": [
    "### final dataframe of three urls"
   ]
  },
  {
   "cell_type": "code",
   "execution_count": 132,
   "id": "0bffca24",
   "metadata": {},
   "outputs": [
    {
     "data": {
      "text/html": [
       "<div>\n",
       "<style scoped>\n",
       "    .dataframe tbody tr th:only-of-type {\n",
       "        vertical-align: middle;\n",
       "    }\n",
       "\n",
       "    .dataframe tbody tr th {\n",
       "        vertical-align: top;\n",
       "    }\n",
       "\n",
       "    .dataframe thead th {\n",
       "        text-align: right;\n",
       "    }\n",
       "</style>\n",
       "<table border=\"1\" class=\"dataframe\">\n",
       "  <thead>\n",
       "    <tr style=\"text-align: right;\">\n",
       "      <th></th>\n",
       "      <th>Title</th>\n",
       "      <th>Paragraph</th>\n",
       "      <th>Duration</th>\n",
       "      <th>Start Date</th>\n",
       "      <th>Syllabus</th>\n",
       "      <th>Key_skills</th>\n",
       "      <th>eligibility_criteria</th>\n",
       "      <th>INR</th>\n",
       "      <th>Faculty</th>\n",
       "    </tr>\n",
       "  </thead>\n",
       "  <tbody>\n",
       "    <tr>\n",
       "      <th>0</th>\n",
       "      <td>Doctor of business administration - TalentEdge</td>\n",
       "      <td>Go beyond the boundaries of your job, without ...</td>\n",
       "      <td>36 Months</td>\n",
       "      <td>15 Feb, 2024</td>\n",
       "      <td>[Foundation (12 Credits), Concentration (12 Cr...</td>\n",
       "      <td>[Applied Research, Concept Selection, Manageme...</td>\n",
       "      <td>Master's Degree (or equivalent) or Bachelors D...</td>\n",
       "      <td>1226438</td>\n",
       "      <td>[Dr. Mick Mcgee, Dr. Judith Lee, Dr. Joaquin \"...</td>\n",
       "    </tr>\n",
       "    <tr>\n",
       "      <th>1</th>\n",
       "      <td>Professional certificate programme in hr manag...</td>\n",
       "      <td>Go beyond the boundaries of your job, without ...</td>\n",
       "      <td>5 Months</td>\n",
       "      <td>15 Feb, 2024</td>\n",
       "      <td>[Introduction to HR Analytics, HR Practices an...</td>\n",
       "      <td>[Talent sourcing, Employee retention,, Workfor...</td>\n",
       "      <td>- Minimum 2 years work experience if you have ...</td>\n",
       "      <td>105932</td>\n",
       "      <td>[Prof T.N. Krishnan, Prof. Kapil Verma, Prof. ...</td>\n",
       "    </tr>\n",
       "    <tr>\n",
       "      <th>2</th>\n",
       "      <td>Data Analytics Course Online by eCornell- Tale...</td>\n",
       "      <td>[Talentedge is proud to offer Data Analytics 3...</td>\n",
       "      <td>19</td>\n",
       "      <td>13 mar, 2024</td>\n",
       "      <td>[Understanding and Visualizing Data, Implement...</td>\n",
       "      <td>0</td>\n",
       "      <td>[Certificate of Completion in Data Analytics 3...</td>\n",
       "      <td>INR 200000</td>\n",
       "      <td>Chris Anderson</td>\n",
       "    </tr>\n",
       "  </tbody>\n",
       "</table>\n",
       "</div>"
      ],
      "text/plain": [
       "                                               Title  \\\n",
       "0     Doctor of business administration - TalentEdge   \n",
       "1  Professional certificate programme in hr manag...   \n",
       "2  Data Analytics Course Online by eCornell- Tale...   \n",
       "\n",
       "                                           Paragraph   Duration    Start Date  \\\n",
       "0  Go beyond the boundaries of your job, without ...  36 Months  15 Feb, 2024   \n",
       "1  Go beyond the boundaries of your job, without ...   5 Months  15 Feb, 2024   \n",
       "2  [Talentedge is proud to offer Data Analytics 3...         19  13 mar, 2024   \n",
       "\n",
       "                                            Syllabus  \\\n",
       "0  [Foundation (12 Credits), Concentration (12 Cr...   \n",
       "1  [Introduction to HR Analytics, HR Practices an...   \n",
       "2  [Understanding and Visualizing Data, Implement...   \n",
       "\n",
       "                                          Key_skills  \\\n",
       "0  [Applied Research, Concept Selection, Manageme...   \n",
       "1  [Talent sourcing, Employee retention,, Workfor...   \n",
       "2                                                  0   \n",
       "\n",
       "                                eligibility_criteria         INR  \\\n",
       "0  Master's Degree (or equivalent) or Bachelors D...     1226438   \n",
       "1  - Minimum 2 years work experience if you have ...      105932   \n",
       "2  [Certificate of Completion in Data Analytics 3...  INR 200000   \n",
       "\n",
       "                                             Faculty  \n",
       "0  [Dr. Mick Mcgee, Dr. Judith Lee, Dr. Joaquin \"...  \n",
       "1  [Prof T.N. Krishnan, Prof. Kapil Verma, Prof. ...  \n",
       "2                                     Chris Anderson  "
      ]
     },
     "execution_count": 132,
     "metadata": {},
     "output_type": "execute_result"
    }
   ],
   "source": [
    "concatenated_df = pd.concat([df1, df2, df3], ignore_index=True)\n",
    "concatenated_df.head()"
   ]
  }
 ],
 "metadata": {
  "kernelspec": {
   "display_name": "Python 3 (ipykernel)",
   "language": "python",
   "name": "python3"
  },
  "language_info": {
   "codemirror_mode": {
    "name": "ipython",
    "version": 3
   },
   "file_extension": ".py",
   "mimetype": "text/x-python",
   "name": "python",
   "nbconvert_exporter": "python",
   "pygments_lexer": "ipython3",
   "version": "3.9.13"
  }
 },
 "nbformat": 4,
 "nbformat_minor": 5
}
